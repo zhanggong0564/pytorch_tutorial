{
 "cells": [
  {
   "cell_type": "code",
   "execution_count": 1,
   "metadata": {},
   "outputs": [],
   "source": [
    "import torch"
   ]
  },
  {
   "cell_type": "code",
   "execution_count": 3,
   "metadata": {},
   "outputs": [],
   "source": [
    "x = torch.linspace(-10,10,100)"
   ]
  },
  {
   "cell_type": "code",
   "execution_count": 5,
   "metadata": {},
   "outputs": [
    {
     "data": {
      "text/plain": [
       "torch.Size([100])"
      ]
     },
     "execution_count": 5,
     "metadata": {},
     "output_type": "execute_result"
    }
   ],
   "source": [
    "x.shape"
   ]
  },
  {
   "cell_type": "code",
   "execution_count": 6,
   "metadata": {},
   "outputs": [
    {
     "data": {
      "text/plain": [
       "tensor([-1.0713, -1.5830,  0.5111, -0.9078,  0.4148, -0.0703, -0.0555,  0.0940,\n",
       "         1.5709,  0.3423, -0.4404,  0.7111,  0.7993, -0.0293, -0.3874, -0.3642,\n",
       "         1.3920, -0.8298,  0.9741,  0.1438,  0.8367,  1.4094,  0.8894, -0.3321,\n",
       "        -0.6347, -1.0508, -0.6860, -0.3169,  0.8286, -0.6207, -0.1073, -0.1484,\n",
       "        -0.5436, -1.1841, -0.6525, -0.5633, -0.4256,  0.1714, -0.4135, -0.6933,\n",
       "         0.4112,  0.6923,  0.4039, -0.1792,  0.2193,  1.2280, -0.2004,  0.3953,\n",
       "         2.1846, -0.8614,  1.8252,  1.7640, -0.4371, -0.8464,  0.4304, -2.3268,\n",
       "         1.7281,  0.2103,  0.1515, -0.3820, -1.1589, -0.7996,  0.1779,  0.5724,\n",
       "        -0.2367, -1.2810,  0.6304, -0.9036, -1.6627, -0.1029,  0.5177,  0.2653,\n",
       "         0.5588, -0.1727, -2.6368,  1.1810, -0.4396,  0.4547,  0.4815,  2.1154,\n",
       "         0.0631,  0.0441,  0.7657, -0.6352, -1.3330, -0.3200, -0.1358,  0.3355,\n",
       "        -0.4575,  0.7227,  1.3670,  0.5223, -0.5573,  0.1615,  0.8568, -1.0434,\n",
       "         1.6918, -0.6845,  0.2095,  0.8969])"
      ]
     },
     "execution_count": 6,
     "metadata": {},
     "output_type": "execute_result"
    }
   ],
   "source": [
    "torch.randn(100)"
   ]
  },
  {
   "cell_type": "code",
   "execution_count": 7,
   "metadata": {},
   "outputs": [],
   "source": [
    "y = 2.0*x+5+torch.randn(100)"
   ]
  },
  {
   "cell_type": "code",
   "execution_count": 8,
   "metadata": {},
   "outputs": [
    {
     "data": {
      "text/plain": [
       "torch.Size([100])"
      ]
     },
     "execution_count": 8,
     "metadata": {},
     "output_type": "execute_result"
    }
   ],
   "source": [
    "y.shape"
   ]
  },
  {
   "cell_type": "code",
   "execution_count": 9,
   "metadata": {},
   "outputs": [],
   "source": [
    "import matplotlib.pyplot as plt"
   ]
  },
  {
   "cell_type": "code",
   "execution_count": 10,
   "metadata": {},
   "outputs": [
    {
     "data": {
      "text/plain": [
       "<matplotlib.collections.PathCollection at 0x2afe516b780>"
      ]
     },
     "execution_count": 10,
     "metadata": {},
     "output_type": "execute_result"
    },
    {
     "data": {
      "image/png": "[encoded data removed]",
      "text/plain": [
       "<Figure size 432x288 with 1 Axes>"
      ]
     },
     "metadata": {
      "needs_background": "light"
     },
     "output_type": "display_data"
    }
   ],
   "source": [
    "plt.scatter(x,y)"
   ]
  },
  {
   "cell_type": "code",
   "execution_count": 75,
   "metadata": {},
   "outputs": [],
   "source": [
    "w = torch.randn(1,requires_grad = True)\n",
    "b = torch.zeros(1,requires_grad = True)\n",
    "lr = 0.005"
   ]
  },
  {
   "cell_type": "code",
   "execution_count": 76,
   "metadata": {},
   "outputs": [
    {
     "data": {
      "text/plain": [
       "(tensor([0.6340], requires_grad=True), tensor([0.], requires_grad=True))"
      ]
     },
     "execution_count": 76,
     "metadata": {},
     "output_type": "execute_result"
    }
   ],
   "source": [
    "w,b"
   ]
  },
  {
   "cell_type": "code",
   "execution_count": 77,
   "metadata": {},
   "outputs": [
    {
     "name": "stdout",
     "output_type": "stream",
     "text": [
      "45.205147\n",
      "19.298677\n",
      "0.5922199\n",
      "21.80056\n",
      "45.711746\n",
      "31.170408\n",
      "4.5572443\n",
      "11.388846\n",
      "37.815784\n",
      "38.667957\n",
      "15.305215\n",
      "7.8601437\n",
      "25.685352\n",
      "37.71724\n",
      "27.159552\n",
      "13.186843\n",
      "15.727367\n",
      "28.717846\n",
      "33.861282\n",
      "24.65232\n",
      "13.195121\n",
      "16.331125\n",
      "31.88276\n",
      "36.289112\n",
      "19.407112\n",
      "7.0127883\n",
      "22.2954\n",
      "42.038246\n",
      "31.048851\n",
      "5.5946074\n",
      "10.202356\n",
      "38.95723\n",
      "41.9278\n",
      "12.726514\n",
      "2.0368273\n",
      "28.777843\n",
      "46.25215\n",
      "24.532522\n",
      "2.1555336\n",
      "16.989082\n",
      "41.69726\n",
      "34.662914\n",
      "10.532269\n",
      "9.930901\n",
      "30.636477\n",
      "37.656292\n",
      "22.771677\n",
      "11.437439\n",
      "18.884832\n",
      "31.83144\n"
     ]
    },
    {
     "data": {
      "text/plain": [
       "[<matplotlib.lines.Line2D at 0x2afe78d9710>]"
      ]
     },
     "execution_count": 77,
     "metadata": {},
     "output_type": "execute_result"
    },
    {
     "data": {
      "image/png": "[encoded data removed]",
      "text/plain": [
       "<Figure size 432x288 with 1 Axes>"
      ]
     },
     "metadata": {
      "needs_background": "light"
     },
     "output_type": "display_data"
    }
   ],
   "source": [
    "for i in range(5000):\n",
    "    y_hat = torch.mul(w,x)+b\n",
    "#     print(y_hat.shape)\n",
    "    loss = ((y-y_hat)**2/2).mean()\n",
    "#     print(loss)\n",
    "    loss.backward()\n",
    "    \n",
    "    b.data.sub_(lr*b.grad)\n",
    "    w.data.sub_(lr*w.grad)\n",
    "    \n",
    "    if i%100==0:\n",
    "        print(loss.data.numpy())\n",
    "    \n",
    "plt.scatter(x,y)\n",
    "plt.plot(x.data.numpy(),y_hat.data.numpy())"
   ]
  },
  {
   "cell_type": "code",
   "execution_count": 57,
   "metadata": {},
   "outputs": [
    {
     "name": "stdout",
     "output_type": "stream",
     "text": [
      "2.5038795471191406 2.743882656097412\n"
     ]
    }
   ],
   "source": [
    "print(w.item(),b.item())"
   ]
  },
  {
   "cell_type": "code",
   "execution_count": null,
   "metadata": {},
   "outputs": [],
   "source": []
  },
  {
   "cell_type": "code",
   "execution_count": null,
   "metadata": {},
   "outputs": [],
   "source": []
  },
  {
   "cell_type": "code",
   "execution_count": null,
   "metadata": {},
   "outputs": [],
   "source": []
  },
  {
   "cell_type": "code",
   "execution_count": null,
   "metadata": {},
   "outputs": [],
   "source": []
  }
 ],
 "metadata": {
  "kernelspec": {
   "display_name": "Python [conda env:pytorch_gpu]",
   "language": "python",
   "name": "conda-env-pytorch_gpu-py"
  },
  "language_info": {
   "codemirror_mode": {
    "name": "ipython",
    "version": 3
   },
   "file_extension": ".py",
   "mimetype": "text/x-python",
   "name": "python",
   "nbconvert_exporter": "python",
   "pygments_lexer": "ipython3",
   "version": "3.6.10"
  }
 },
 "nbformat": 4,
 "nbformat_minor": 2
}

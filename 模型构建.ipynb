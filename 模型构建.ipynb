{
 "cells": [
  {
   "cell_type": "markdown",
   "metadata": {},
   "source": [
    "## 卷积的API"
   ]
  },
  {
   "cell_type": "code",
   "execution_count": 1,
   "metadata": {},
   "outputs": [],
   "source": [
    "import torch.nn as nn"
   ]
  },
  {
   "cell_type": "markdown",
   "metadata": {},
   "source": [
    "nn.Conv2d()  \n",
    "* 功能对多个二维的信号进行 二维卷积\n",
    "* in_channels:输入通道数\n",
    "* out_channels：输出通道数\n",
    "* kernel_size:卷积核的尺寸\n",
    "* stride:步长\n",
    "* pandding:填充个数\n",
    "* dilation: 空洞卷积大小\n",
    "* groups：分组卷积设置\n",
    "* bias:偏置"
   ]
  },
  {
   "cell_type": "markdown",
   "metadata": {},
   "source": [
    "卷积后图的尺寸计算公式：  \n",
    "简化版本：$$\\cfrac{in_{size}+2*padding-kernel_{size}}{stride} + 1$$"
   ]
  },
  {
   "cell_type": "markdown",
   "metadata": {},
   "source": [
    "nn.ConvTranspose2d()  \n",
    "功能：转置卷积实现上采样\n",
    "* in_channels:输入通道数\n",
    "* out_channels:输出通道数\n",
    "* kernel_size:卷积核尺寸\n",
    "* stride：步长\n",
    "* padding:填充个数\n",
    "......."
   ]
  },
  {
   "cell_type": "markdown",
   "metadata": {},
   "source": [
    "尺寸计算公式：\n",
    "$$out_{size} = (in_{size}-1)*stride+kernel_{size}-2*padding$$"
   ]
  },
  {
   "cell_type": "markdown",
   "metadata": {},
   "source": [
    "池化层：最大池化，平均池化  \n",
    "nn.Maxpool2d()  \n",
    "* kernel_size:池化核的尺寸\n",
    "* stride:步长\n",
    "* padding:填充个数\n",
    "* dilation:池化核间隔大小\n",
    "* ceil_mode:尺寸向上取整\n",
    "* return_indices：记录池化像素的索引"
   ]
  },
  {
   "cell_type": "markdown",
   "metadata": {},
   "source": [
    "线性层：  \n",
    "nn.Linear() \n",
    "* in_features:输入节点数\n",
    "* out_features:输出节点数\n",
    "* bias:是否需要偏置  \n",
    "$$ y = xW^T +bias$$"
   ]
  },
  {
   "cell_type": "markdown",
   "metadata": {},
   "source": [
    "### 创建模型，以Lenet为例子"
   ]
  },
  {
   "cell_type": "code",
   "execution_count": 3,
   "metadata": {},
   "outputs": [],
   "source": [
    "class LeNet(nn.Module):\n",
    "    def __init__(self, classes):\n",
    "        super(LeNet, self).__init__()\n",
    "        self.conv1 = nn.Conv2d(3, 6, 5)\n",
    "        self.conv2 = nn.Conv2d(6, 16, 5)\n",
    "        self.fc1 = nn.Linear(16*5*5, 120)\n",
    "        self.fc2 = nn.Linear(120, 84)\n",
    "        self.fc3 = nn.Linear(84, classes)\n",
    "\n",
    "    def forward(self, x):#拼接子模块\n",
    "        out = F.relu(self.conv1(x))\n",
    "        out = F.max_pool2d(out, 2)\n",
    "        out = F.relu(self.conv2(out))\n",
    "        out = F.max_pool2d(out, 2)\n",
    "        out = out.view(out.size(0), -1)\n",
    "        out = F.relu(self.fc1(out))\n",
    "        out = F.relu(self.fc2(out))\n",
    "        out = self.fc3(out)\n",
    "        return out"
   ]
  },
  {
   "cell_type": "markdown",
   "metadata": {},
   "source": [
    "### 模型容器"
   ]
  },
  {
   "cell_type": "code",
   "execution_count": 6,
   "metadata": {},
   "outputs": [],
   "source": [
    "class Lenet(nn.Module):\n",
    "    def __init__(self,classes):\n",
    "        super(Lenet,self).__init__()\n",
    "        self.conv = nn.Sequential(\n",
    "            nn.Conv2d(3, 6, 5),\n",
    "            nn.ReLU(),\n",
    "            nn.MaxPool2d(2,2),\n",
    "            nn.Conv2d(6, 16, 5),\n",
    "            nn.ReLU(),\n",
    "            nn.MaxPool2d(2,2)\n",
    "        )\n",
    "        self.fc = nn.Sequential(\n",
    "            nn.Linear(16*5*5,120),\n",
    "            nn.ReLU(),\n",
    "            nn.Linear(120,84),\n",
    "            nn.ReLU(),\n",
    "            nn.Linear(84,classes)\n",
    "        )\n",
    "    def forward(self,x):\n",
    "        x=self.conv(x)\n",
    "        x = x.view(x.size(0),-1)\n",
    "        x = self.fc(x)\n",
    "        return x"
   ]
  },
  {
   "cell_type": "markdown",
   "metadata": {},
   "source": [
    "为顺序容器来命名："
   ]
  },
  {
   "cell_type": "code",
   "execution_count": 21,
   "metadata": {},
   "outputs": [],
   "source": [
    "from collections import OrderedDict"
   ]
  },
  {
   "cell_type": "code",
   "execution_count": 22,
   "metadata": {},
   "outputs": [],
   "source": [
    "class Lenet_Dict(nn.Module):\n",
    "    def __init__(self,classes):\n",
    "        super(Lenet_Dict,self).__init__()\n",
    "        self.conv = nn.Sequential(OrderedDict({\n",
    "            'conv1':nn.Conv2d(3, 6, 5),\n",
    "            'relu1':nn.ReLU(),\n",
    "            'pool1':nn.MaxPool2d(2,2),\n",
    "            'conv2':nn.Conv2d(6, 16, 5),\n",
    "            'relu2':nn.ReLU(),\n",
    "            'pool1':nn.MaxPool2d(2,2)\n",
    "        }))\n",
    "        self.fc = nn.Sequential(OrderedDict({\n",
    "            'fc1':nn.Linear(16*5*5,120),\n",
    "            'relu3':nn.ReLU(),\n",
    "            'fc2':nn.Linear(120,84),\n",
    "            'relu4':nn.ReLU(),\n",
    "            'fc3':nn.Linear(84,classes)})\n",
    "            \n",
    "        )\n",
    "    def forward(self,x):\n",
    "        x=self.conv(x)\n",
    "        x = x.view(x.size(0),-1)\n",
    "        x = self.fc(x)\n",
    "        return x"
   ]
  },
  {
   "cell_type": "code",
   "execution_count": 23,
   "metadata": {},
   "outputs": [],
   "source": [
    "mode=Lenet_Dict(2)"
   ]
  },
  {
   "cell_type": "code",
   "execution_count": 24,
   "metadata": {},
   "outputs": [
    {
     "data": {
      "text/plain": [
       "Lenet_Dict(\n",
       "  (conv): Sequential(\n",
       "    (conv1): Conv2d(3, 6, kernel_size=(5, 5), stride=(1, 1))\n",
       "    (relu1): ReLU()\n",
       "    (pool1): MaxPool2d(kernel_size=2, stride=2, padding=0, dilation=1, ceil_mode=False)\n",
       "    (conv2): Conv2d(6, 16, kernel_size=(5, 5), stride=(1, 1))\n",
       "    (relu2): ReLU()\n",
       "  )\n",
       "  (fc): Sequential(\n",
       "    (fc1): Linear(in_features=400, out_features=120, bias=True)\n",
       "    (relu3): ReLU()\n",
       "    (fc2): Linear(in_features=120, out_features=84, bias=True)\n",
       "    (relu4): ReLU()\n",
       "    (fc3): Linear(in_features=84, out_features=2, bias=True)\n",
       "  )\n",
       ")"
      ]
     },
     "execution_count": 24,
     "metadata": {},
     "output_type": "execute_result"
    }
   ],
   "source": [
    "mode"
   ]
  },
  {
   "cell_type": "code",
   "execution_count": 55,
   "metadata": {},
   "outputs": [
    {
     "data": {
      "text/plain": [
       "odict_items([('conv', Sequential(\n",
       "  (conv1): Conv2d(3, 6, kernel_size=(5, 5), stride=(1, 1))\n",
       "  (relu1): ReLU()\n",
       "  (pool1): MaxPool2d(kernel_size=2, stride=2, padding=0, dilation=1, ceil_mode=False)\n",
       "  (conv2): Conv2d(6, 16, kernel_size=(5, 5), stride=(1, 1))\n",
       "  (relu2): ReLU()\n",
       ")), ('fc', Sequential(\n",
       "  (fc1): Linear(in_features=400, out_features=120, bias=True)\n",
       "  (relu3): ReLU()\n",
       "  (fc2): Linear(in_features=120, out_features=84, bias=True)\n",
       "  (relu4): ReLU()\n",
       "  (fc3): Linear(in_features=84, out_features=2, bias=True)\n",
       "))])"
      ]
     },
     "execution_count": 55,
     "metadata": {},
     "output_type": "execute_result"
    }
   ],
   "source": [
    "mode._modules.items()"
   ]
  },
  {
   "cell_type": "code",
   "execution_count": 69,
   "metadata": {},
   "outputs": [
    {
     "data": {
      "text/plain": [
       "Conv2d(3, 6, kernel_size=(5, 5), stride=(1, 1))"
      ]
     },
     "execution_count": 69,
     "metadata": {},
     "output_type": "execute_result"
    }
   ],
   "source": [
    "mode._modules['conv']._modules['conv1']"
   ]
  },
  {
   "cell_type": "code",
   "execution_count": 70,
   "metadata": {},
   "outputs": [],
   "source": [
    "mode1 = LeNet(2)"
   ]
  }
 ],
 "metadata": {
  "kernelspec": {
   "display_name": "torch_gpu",
   "language": "python",
   "name": "py_gpu"
  },
  "language_info": {
   "codemirror_mode": {
    "name": "ipython",
    "version": 3
   },
   "file_extension": ".py",
   "mimetype": "text/x-python",
   "name": "python",
   "nbconvert_exporter": "python",
   "pygments_lexer": "ipython3",
   "version": "3.6.2"
  }
 },
 "nbformat": 4,
 "nbformat_minor": 2
}

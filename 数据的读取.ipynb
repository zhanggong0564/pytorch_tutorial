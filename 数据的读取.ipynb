{
 "cells": [
  {
   "cell_type": "code",
   "execution_count": 31,
   "metadata": {},
   "outputs": [],
   "source": [
    "import torch\n",
    "import torch.nn as nn\n",
    "import torch.nn.functional as F\n",
    "import numpy as np\n",
    "import matplotlib.pyplot as plt"
   ]
  },
  {
   "cell_type": "markdown",
   "metadata": {},
   "source": [
    "数据的读取，是通过Dataloader\n",
    "* sampler-->index,\n",
    "* DataSet-->img,label"
   ]
  },
  {
   "cell_type": "code",
   "execution_count": 2,
   "metadata": {},
   "outputs": [],
   "source": [
    "from torch.utils.data import DataLoader"
   ]
  },
  {
   "cell_type": "markdown",
   "metadata": {},
   "source": [
    "DataLoader(dataset,batch_size=1,shuffle=False,sampler=None,batch_sampler=None,pin_memory=False,drop_last=False,timeout=0,worker_init_fn=None)"
   ]
  },
  {
   "cell_type": "markdown",
   "metadata": {},
   "source": [
    "功能：构建可以迭代的数据装载器\n",
    "* datasaet:Dataset类，决定数据从哪里读取，如何读取\n",
    "* batch——size:批大小\n",
    "* num_works:是否多进程读取数据\n",
    "* shuffle:每个epoch是否乱序\n",
    "* drop_last:当样本数不能被batch——size整除时，是否舍弃最后一批数据"
   ]
  },
  {
   "cell_type": "code",
   "execution_count": 3,
   "metadata": {},
   "outputs": [],
   "source": [
    "from torch.utils.data import Dataset"
   ]
  },
  {
   "cell_type": "markdown",
   "metadata": {},
   "source": [
    "功能：Dataset抽象类，所有自定义的Dataset需要继承它，并且复写  \n",
    "__getitem__()  \n",
    "getitem:  \n",
    "接收一个inde，返回一个样本"
   ]
  },
  {
   "cell_type": "code",
   "execution_count": 4,
   "metadata": {},
   "outputs": [],
   "source": [
    "import os"
   ]
  },
  {
   "cell_type": "markdown",
   "metadata": {},
   "source": [
    "对数据进行处理，制作annotation"
   ]
  },
  {
   "cell_type": "code",
   "execution_count": 5,
   "metadata": {},
   "outputs": [],
   "source": [
    "def makedir(new_dir):\n",
    "    if not os.path.exists(new_dir):\n",
    "        os.makedirs(new_dir)"
   ]
  },
  {
   "cell_type": "code",
   "execution_count": 6,
   "metadata": {},
   "outputs": [],
   "source": [
    "data_dir = '/home/zhanggong-study/pytorch_tutorial/RMB_data'\n",
    "train_pct = 0.8\n",
    "test_pct = 0.2"
   ]
  },
  {
   "cell_type": "code",
   "execution_count": 7,
   "metadata": {},
   "outputs": [],
   "source": [
    "import glob\n",
    "import cv2"
   ]
  },
  {
   "cell_type": "code",
   "execution_count": 8,
   "metadata": {},
   "outputs": [],
   "source": [
    "for name in ['1','100']:\n",
    "    image_dir=os.path.join(data_dir,name)\n",
    "    image_list = glob.glob(image_dir+'/*')\n",
    "    for i,image_name in enumerate(image_list):\n",
    "        image = cv2.imread(image_name)\n",
    "        if name=='1':\n",
    "            img_info = image_name +' '+'0'+'\\n'\n",
    "        else:\n",
    "            img_info = image_name +' '+'1'+'\\n'\n",
    "        if image.shape==None:\n",
    "            break\n",
    "        if i<len(image_list)*0.8:\n",
    "            with open('/home/zhanggong-study/pytorch_tutorial/RMB_data/train.txt','a') as f:\n",
    "                f.write(img_info)\n",
    "        else:\n",
    "            with open('/home/zhanggong-study/pytorch_tutorial/RMB_data/test.txt','a') as f:\n",
    "                f.write(img_info)"
   ]
  },
  {
   "cell_type": "markdown",
   "metadata": {},
   "source": [
    "自定义数据集(此章重点）"
   ]
  },
  {
   "cell_type": "code",
   "execution_count": 26,
   "metadata": {},
   "outputs": [],
   "source": [
    "class Mydata(Dataset):\n",
    "    def __init__(self,data_dir,annotation_dir,transform=None):\n",
    "        self.data_dir = data_dir\n",
    "        self.annotation_dir =annotation_dir\n",
    "        self.transform= transform\n",
    "        with open(self.annotation_dir) as f:\n",
    "            self.img_info = f.readlines()\n",
    "    def __len__(self):\n",
    "        return len(self.img_info)\n",
    "    def __getitem__(self,index):\n",
    "        sample ={}\n",
    "        image_path = self.img_info[index].split()[0]\n",
    "        img_label = int(self.img_info[index].split()[-1])\n",
    "        image_BGR =cv2.imread(image_path)\n",
    "        image_RGB = cv2.cvtColor(image_BGR,cv2.COLOR_BGR2RGB)\n",
    "        sample['image'] = image_RGB\n",
    "        sample['label'] = img_label\n",
    "        if self.transform:\n",
    "            sample['image'] = self.transform(image_RGB)\n",
    "        return sample"
   ]
  }
 ],
 "metadata": {
  "kernelspec": {
   "display_name": "torch_gpu",
   "language": "python",
   "name": "py_gpu"
  },
  "language_info": {
   "codemirror_mode": {
    "name": "ipython",
    "version": 3
   },
   "file_extension": ".py",
   "mimetype": "text/x-python",
   "name": "python",
   "nbconvert_exporter": "python",
   "pygments_lexer": "ipython3",
   "version": "3.6.2"
  }
 },
 "nbformat": 4,
 "nbformat_minor": 2
}

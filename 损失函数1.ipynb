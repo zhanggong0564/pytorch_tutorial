{
 "cells": [
  {
   "cell_type": "markdown",
   "metadata": {},
   "source": [
    "损失函数时衡量输出与真实标签的差异\n",
    "* 损失函数是求单个样本的loss、\n",
    "* 代价函数 是计算多个样本的平均loss"
   ]
  },
  {
   "cell_type": "code",
   "execution_count": 2,
   "metadata": {},
   "outputs": [],
   "source": [
    "import torch.nn as nn\n",
    "import torch"
   ]
  },
  {
   "cell_type": "markdown",
   "metadata": {},
   "source": [
    "1.nn.CrossEntropyLoss()\n",
    "* nn.LogSoftmax()与nn.NLLloss()结合，进行交叉熵计算\n",
    "* 主要参数：\n",
    "* weight :各个类别的loss设置的权值\n",
    "* ignore_index：忽略某个类别\n",
    "* reduction:计算模式\n",
    "   * 逐个元素计算\n",
    "   * sum所有元素求和，返回标量\n",
    "   * mean 加权平均，返回标量"
   ]
  },
  {
   "cell_type": "code",
   "execution_count": 3,
   "metadata": {},
   "outputs": [],
   "source": [
    "inputs = torch.tensor([[1,2],\n",
    "                       [1,3],\n",
    "                       [1,3]],dtype=torch.float)"
   ]
  },
  {
   "cell_type": "code",
   "execution_count": 5,
   "metadata": {},
   "outputs": [],
   "source": [
    "target = torch.tensor([0,1,1],dtype = torch.long)"
   ]
  },
  {
   "cell_type": "code",
   "execution_count": 6,
   "metadata": {},
   "outputs": [],
   "source": [
    "loss_f_none = nn.CrossEntropyLoss(weight=None,reduction='none')\n",
    "loss_f_sum = nn.CrossEntropyLoss(weight=None,reduction='sum')\n",
    "loss_f_mean=nn.CrossEntropyLoss(weight=None,reduction='mean')"
   ]
  },
  {
   "cell_type": "code",
   "execution_count": 7,
   "metadata": {},
   "outputs": [],
   "source": [
    "loss_none = loss_f_none(inputs,target)\n",
    "loss_f_sum = loss_f_sum(inputs,target)\n",
    "loss_f_mean = loss_f_mean(inputs,target)"
   ]
  },
  {
   "cell_type": "code",
   "execution_count": 10,
   "metadata": {},
   "outputs": [
    {
     "name": "stdout",
     "output_type": "stream",
     "text": [
      "cross entropy loss: tensor([1.3133, 0.1269, 0.1269]) tensor(1.5671) tensor(0.5224)\n"
     ]
    }
   ],
   "source": [
    "print('cross entropy loss:',loss_none,loss_f_sum,loss_f_mean)"
   ]
  },
  {
   "cell_type": "markdown",
   "metadata": {},
   "source": [
    "## weight"
   ]
  },
  {
   "cell_type": "code",
   "execution_count": 11,
   "metadata": {},
   "outputs": [],
   "source": [
    "weights = torch.tensor([1,2],dtype=torch.float)"
   ]
  },
  {
   "cell_type": "code",
   "execution_count": 12,
   "metadata": {},
   "outputs": [],
   "source": [
    "loss_f_none_w= nn.CrossEntropyLoss(weight=weights,reduction='none')\n",
    "loss_f_sum_w = nn.CrossEntropyLoss(weight=weights,reduction='sum')\n",
    "loss_f_mean_w = nn.CrossEntropyLoss(weight=weights,reduction='mean')"
   ]
  },
  {
   "cell_type": "code",
   "execution_count": 13,
   "metadata": {},
   "outputs": [],
   "source": [
    "loss_none_w = loss_f_none_w(inputs,target)\n",
    "loss_sum_w = loss_f_sum_w(inputs,target)\n",
    "loss_mean_w = loss_f_mean_w(inputs,target)"
   ]
  },
  {
   "cell_type": "code",
   "execution_count": 15,
   "metadata": {},
   "outputs": [
    {
     "name": "stdout",
     "output_type": "stream",
     "text": [
      "cross entropy loss: tensor([1.3133, 0.2539, 0.2539]) tensor(1.8210) tensor(0.3642)\n"
     ]
    }
   ],
   "source": [
    "print('cross entropy loss:',loss_none_w,loss_sum_w,loss_mean_w)"
   ]
  },
  {
   "cell_type": "markdown",
   "metadata": {},
   "source": [
    "这里需要注意的在计算平均loss时，不是按3计算，而是按照份数，1+2+2=5"
   ]
  },
  {
   "cell_type": "markdown",
   "metadata": {},
   "source": [
    "### 2 nnNLLLoss"
   ]
  },
  {
   "cell_type": "markdown",
   "metadata": {},
   "source": [
    "* 功能：实现负对数似然函数中的负号功能\n",
    "* 主要参数：\n",
    "* weight :各个类别的loss设置的权值\n",
    "* ignore_index：忽略某个类别\n",
    "* reduction:计算模式\n",
    "   * 逐个元素计算\n",
    "   * sum所有元素求和，返回标量\n",
    "   * mean 加权平均，返回标量"
   ]
  },
  {
   "cell_type": "code",
   "execution_count": 22,
   "metadata": {},
   "outputs": [],
   "source": [
    "inputs1 = torch.tensor([[2,1],\n",
    "                       [3,1],\n",
    "                       [3,1]],dtype=torch.float)"
   ]
  },
  {
   "cell_type": "code",
   "execution_count": 23,
   "metadata": {},
   "outputs": [],
   "source": [
    "weights = torch.tensor([1,1],dtype=torch.float)"
   ]
  },
  {
   "cell_type": "code",
   "execution_count": 24,
   "metadata": {},
   "outputs": [],
   "source": [
    "nllloss_f_none = nn.NLLLoss(weight=weights,reduction='none')\n",
    "nllloss_f_sum = nn.NLLLoss(weight=weights,reduction='sum')\n",
    "nllloss_f_mean = nn.NLLLoss(weight=weights,reduction='mean')"
   ]
  },
  {
   "cell_type": "code",
   "execution_count": 25,
   "metadata": {},
   "outputs": [],
   "source": [
    "nllloss_f_none = nllloss_f_none(inputs1,target)\n",
    "nllloss_f_sum = nllloss_f_sum(inputs1,target)\n",
    "nllloss_f_mean =nllloss_f_mean(inputs1,target)"
   ]
  },
  {
   "cell_type": "code",
   "execution_count": 26,
   "metadata": {},
   "outputs": [
    {
     "name": "stdout",
     "output_type": "stream",
     "text": [
      "NLLloss tensor([-2., -1., -1.]) tensor(-4.) tensor(-1.3333)\n"
     ]
    }
   ],
   "source": [
    "print('NLLloss',nllloss_f_none,nllloss_f_sum,nllloss_f_mean)"
   ]
  },
  {
   "cell_type": "markdown",
   "metadata": {},
   "source": [
    "### 3 nn.BCEloss"
   ]
  },
  {
   "cell_type": "markdown",
   "metadata": {},
   "source": [
    "$$l_n = -w_n [y_n*logx_n+(1-y_n)*log(1-x_n)]$$"
   ]
  },
  {
   "cell_type": "markdown",
   "metadata": {},
   "source": [
    "* 功能：二分类交叉熵\n",
    "* 注意事项：输入值取值范围应该【0,1】\n",
    "* 主要参数：\n",
    "* weight :各个类别的loss设置的权值\n",
    "* ignore_index：忽略某个类别\n",
    "* reduction:计算模式\n",
    "   * 逐个元素计算\n",
    "   * sum所有元素求和，返回标量\n",
    "   * mean 加权平均，返回标量"
   ]
  },
  {
   "cell_type": "code",
   "execution_count": 27,
   "metadata": {},
   "outputs": [],
   "source": [
    "data = torch.tensor([[1,2],\n",
    "                    [2,2],\n",
    "                    [3,4],\n",
    "                    [4,5]],dtype = torch.float)\n",
    "label = torch.tensor([[1,0],\n",
    "                    [1,0],\n",
    "                    [0,1],\n",
    "                    [0,1]],dtype=torch.float)"
   ]
  },
  {
   "cell_type": "code",
   "execution_count": 28,
   "metadata": {},
   "outputs": [],
   "source": [
    "inputs_bce = torch.sigmoid(data)"
   ]
  },
  {
   "cell_type": "code",
   "execution_count": 29,
   "metadata": {},
   "outputs": [],
   "source": [
    "bceloss_f_none = nn.BCELoss(weight=weights,reduction='none')\n",
    "bceloss_f_sum = nn.BCELoss(weight=weights,reduction='sum')\n",
    "bceloss_f_mean = nn.BCELoss(weight=weights,reduction='mean')"
   ]
  },
  {
   "cell_type": "code",
   "execution_count": 31,
   "metadata": {},
   "outputs": [],
   "source": [
    "bceloss_f_none = bceloss_f_none(inputs_bce,label)\n",
    "bceloss_f_sum = bceloss_f_sum(inputs_bce,label)\n",
    "bceloss_f_mean =bceloss_f_mean(inputs_bce,label)"
   ]
  },
  {
   "cell_type": "code",
   "execution_count": 32,
   "metadata": {},
   "outputs": [
    {
     "name": "stdout",
     "output_type": "stream",
     "text": [
      "NLLloss tensor([[0.3133, 2.1269],\n",
      "        [0.1269, 2.1269],\n",
      "        [3.0486, 0.0181],\n",
      "        [4.0181, 0.0067]]) tensor(11.7856) tensor(1.4732)\n"
     ]
    }
   ],
   "source": [
    "print('NLLloss',bceloss_f_none,bceloss_f_sum,bceloss_f_mean)"
   ]
  },
  {
   "cell_type": "markdown",
   "metadata": {},
   "source": [
    "### 4 nn.BCEwithLogitsLoss"
   ]
  },
  {
   "cell_type": "markdown",
   "metadata": {},
   "source": [
    "功能：结合sigmoid与二分类交叉熵\n",
    "* 网络最后一层不加sigmoid\n",
    "* 主要参数：\n",
    "* weight :各个类别的loss设置的权值\n",
    "* ignore_index：忽略某个类别\n",
    "* reduction:计算模式\n",
    "   * 逐个元素计算\n",
    "   * sum所有元素求和，返回标量\n",
    "   * mean 加权平均，返回标量"
   ]
  },
  {
   "cell_type": "markdown",
   "metadata": {},
   "source": [
    "### 5 nn.L1loss"
   ]
  },
  {
   "cell_type": "markdown",
   "metadata": {},
   "source": [
    "功能：计算inputs与target之间的绝对值之差\n",
    "$$ l_n = |x_n-y_n|$$"
   ]
  },
  {
   "cell_type": "markdown",
   "metadata": {},
   "source": [
    "### 6 nn.MSEloss"
   ]
  },
  {
   "cell_type": "markdown",
   "metadata": {},
   "source": [
    "功能：计算inputs与target之间的平方差\n",
    "$$l_n = (x_n-y_n)^2$$"
   ]
  },
  {
   "cell_type": "markdown",
   "metadata": {},
   "source": [
    "### 7 SmoothL1Loss  \n",
    "功能：平滑的L1loss\n",
    "$$loss(x,y) = 1/n*sum(z_i)$$"
   ]
  },
  {
   "cell_type": "code",
   "execution_count": null,
   "metadata": {},
   "outputs": [],
   "source": []
  }
 ],
 "metadata": {
  "kernelspec": {
   "display_name": "torch_gpu",
   "language": "python",
   "name": "py_gpu"
  },
  "language_info": {
   "codemirror_mode": {
    "name": "ipython",
    "version": 3
   },
   "file_extension": ".py",
   "mimetype": "text/x-python",
   "name": "python",
   "nbconvert_exporter": "python",
   "pygments_lexer": "ipython3",
   "version": "3.6.2"
  }
 },
 "nbformat": 4,
 "nbformat_minor": 2
}

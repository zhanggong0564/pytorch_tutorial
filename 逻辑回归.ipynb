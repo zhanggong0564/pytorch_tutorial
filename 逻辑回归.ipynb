{
 "cells": [
  {
   "cell_type": "code",
   "execution_count": 2,
   "metadata": {},
   "outputs": [],
   "source": [
    "####导入包"
   ]
  },
  {
   "cell_type": "code",
   "execution_count": 1,
   "metadata": {},
   "outputs": [],
   "source": [
    "import torch\n",
    "import torch.nn as nn\n",
    "import matplotlib.pyplot as plt\n",
    "import numpy as np"
   ]
  },
  {
   "cell_type": "markdown",
   "metadata": {},
   "source": [
    "生成数据"
   ]
  },
  {
   "cell_type": "code",
   "execution_count": 13,
   "metadata": {},
   "outputs": [
    {
     "name": "stdout",
     "output_type": "stream",
     "text": [
      "torch.Size([200, 2]) torch.Size([200])\n"
     ]
    }
   ],
   "source": [
    "sample_nums = 100\n",
    "mean_value = 1.7\n",
    "bias = 1\n",
    "n_data = torch.ones(sample_nums,2)\n",
    "x0 = torch.normal(mean_value*n_data,1)+bias\n",
    "y0 = torch.zeros(sample_nums)\n",
    "x1 = torch.normal(-mean_value*n_data)+bias\n",
    "y1 = torch.ones(sample_nums)\n",
    "train_x = torch.cat((x0,x1),0)\n",
    "train_y = torch.cat((y0,y1),0)\n",
    "print(train_x.size(),train_y.size())"
   ]
  },
  {
   "cell_type": "markdown",
   "metadata": {},
   "source": [
    "选择模型"
   ]
  },
  {
   "cell_type": "code",
   "execution_count": 14,
   "metadata": {},
   "outputs": [],
   "source": [
    "class Lr(nn.Module):\n",
    "    def __init__(self):\n",
    "        super(Lr,self).__init__()\n",
    "        self.features =nn.Linear(2,1)\n",
    "        self.sigmod = nn.Sigmoid()\n",
    "    def forward(self,x):\n",
    "        x = self.sigmod(self.features(x))\n",
    "        return x"
   ]
  },
  {
   "cell_type": "code",
   "execution_count": 15,
   "metadata": {},
   "outputs": [],
   "source": [
    "model = Lr()"
   ]
  },
  {
   "cell_type": "markdown",
   "metadata": {},
   "source": [
    "损失函数"
   ]
  },
  {
   "cell_type": "code",
   "execution_count": 16,
   "metadata": {},
   "outputs": [],
   "source": [
    "loos_fn = nn.BCELoss()#二分类的交叉熵"
   ]
  },
  {
   "cell_type": "markdown",
   "metadata": {},
   "source": [
    "选择优化器"
   ]
  },
  {
   "cell_type": "code",
   "execution_count": 17,
   "metadata": {},
   "outputs": [],
   "source": [
    "lr = 0.01\n",
    "optimizer = torch.optim.SGD(model.parameters(),lr,momentum=0.9)"
   ]
  },
  {
   "cell_type": "markdown",
   "metadata": {},
   "source": [
    "训练"
   ]
  },
  {
   "cell_type": "code",
   "execution_count": 21,
   "metadata": {},
   "outputs": [
    {
     "data": {
      "image/png": "[encoded data removed]",
      "text/plain": [
       "<Figure size 432x288 with 1 Axes>"
      ]
     },
     "metadata": {
      "needs_background": "light"
     },
     "output_type": "display_data"
    }
   ],
   "source": [
    "for i in range(1000):\n",
    "    y_hat = model(train_x)\n",
    "    loss = loos_fn(y_hat.squeeze(),train_y)\n",
    "    optimizer.zero_grad()\n",
    "    loss.backward()\n",
    "    optimizer.step()\n",
    "    if i %20==0:\n",
    "        mask = y_hat.ge(0.5).float().squeeze()\n",
    "        correct = (mask == train_y).sum()\n",
    "        acc = correct.item()/train_y.size(0)\n",
    "        \n",
    "        plt.scatter(x0.data.numpy()[:,0],x0.data.numpy()[:,1],c ='r',label='class 0')\n",
    "        plt.scatter(x1.data.numpy()[:,0],x1.data.numpy()[:,1],c ='b',label='class ')\n",
    "        \n",
    "        w0,w1 = model.features.weight[0]\n",
    "        w0,w1 = float(w0.item()),float(w1.item())\n",
    "        b = float(model.features.bias[0].item())\n",
    "        \n",
    "        plot_x = np.arange(-6,6,0.1)\n",
    "        plot_y = (-w0*plot_x-b)/w1\n",
    "        \n",
    "        plt.xlim(-5,7)\n",
    "        plt.ylim(-7,7)\n",
    "        plt.plot(plot_x,plot_y)\n",
    "        \n",
    "        plt.text(-5,5,'loss%.4f'%loss.data.numpy(),fontdict={'size':20,'color':'red'})\n",
    "        plt.title('Iteration:{}\\nw0:{:.2f}w1:{:.2f} b:{:.2f} acc{:.2f}'.format(i,w0,w1,b,acc))\n",
    "        plt.legend()\n",
    "        plt.show()\n",
    "        plt.pause(0.5)\n",
    "        if loss.item() <0.02:\n",
    "            break"
   ]
  },
  {
   "cell_type": "code",
   "execution_count": null,
   "metadata": {},
   "outputs": [],
   "source": []
  }
 ],
 "metadata": {
  "kernelspec": {
   "display_name": "Python [conda env:pytorch_gpu]",
   "language": "python",
   "name": "conda-env-pytorch_gpu-py"
  },
  "language_info": {
   "codemirror_mode": {
    "name": "ipython",
    "version": 3
   },
   "file_extension": ".py",
   "mimetype": "text/x-python",
   "name": "python",
   "nbconvert_exporter": "python",
   "pygments_lexer": "ipython3",
   "version": "3.6.10"
  }
 },
 "nbformat": 4,
 "nbformat_minor": 2
}

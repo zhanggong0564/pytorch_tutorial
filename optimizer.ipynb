{
 "cells": [
  {
   "cell_type": "markdown",
   "metadata": {},
   "source": [
    "pytorch的优化器：管理更新模型中可学习的参数值，使得模型更接近真实值  \n",
    "基本属性：\n",
    "* defaults :优化器超参数\n",
    "* state：参数的缓存，如momentum的缓存\n",
    "* params_groups：管理的参数组\n",
    "* —step_count：记录更新次数，学习率调整使用"
   ]
  },
  {
   "cell_type": "markdown",
   "metadata": {},
   "source": [
    "### 1 基本方法"
   ]
  },
  {
   "cell_type": "code",
   "execution_count": 1,
   "metadata": {},
   "outputs": [],
   "source": [
    "import torch\n",
    "from torch.optim import SGD\n",
    "import os"
   ]
  },
  {
   "cell_type": "markdown",
   "metadata": {},
   "source": [
    "* zero_grad()：清空所管理参数的梯度\n",
    "* step()：执行更新\n",
    "* add_param_group():添加参数组\n",
    "* state_dict():获取优化器当前状态信息字典\n",
    "* load_state_dict():加载状态信息字典"
   ]
  },
  {
   "cell_type": "code",
   "execution_count": 2,
   "metadata": {},
   "outputs": [],
   "source": [
    "weight = torch.randn((2, 2), requires_grad=True)\n",
    "weight.grad = torch.ones((2, 2))\n",
    "\n",
    "optimizer = SGD([weight], lr=0.1)"
   ]
  },
  {
   "cell_type": "markdown",
   "metadata": {},
   "source": [
    "1 step"
   ]
  },
  {
   "cell_type": "code",
   "execution_count": 31,
   "metadata": {},
   "outputs": [
    {
     "name": "stdout",
     "output_type": "stream",
     "text": [
      "weight before step:tensor([[ 1.1966, -0.1597],\n",
      "        [-0.1541, -0.4374]])\n",
      "weight after step:tensor([[ 1.0966, -0.2597],\n",
      "        [-0.2541, -0.5374]])\n"
     ]
    }
   ],
   "source": [
    "print(\"weight before step:{}\".format(weight.data))\n",
    "optimizer.step()        # 修改lr=1 0.1观察结果\n",
    "print(\"weight after step:{}\".format(weight.data))"
   ]
  },
  {
   "cell_type": "markdown",
   "metadata": {},
   "source": [
    "2.zero_grad"
   ]
  },
  {
   "cell_type": "code",
   "execution_count": 32,
   "metadata": {},
   "outputs": [
    {
     "name": "stdout",
     "output_type": "stream",
     "text": [
      "weight in optimizer:140293055829192\n",
      "weight in weight:140293055829192\n",
      "\n",
      "weight.grad is tensor([[1., 1.],\n",
      "        [1., 1.]])\n",
      "\n",
      "after optimizer.zero_grad(), weight.grad is\n",
      "tensor([[0., 0.],\n",
      "        [0., 0.]])\n"
     ]
    }
   ],
   "source": [
    "print(\"weight in optimizer:{}\\nweight in weight:{}\\n\".format(id(optimizer.param_groups[0]['params'][0]), id(weight)))\n",
    "\n",
    "print(\"weight.grad is {}\\n\".format(weight.grad))\n",
    "optimizer.zero_grad()\n",
    "print(\"after optimizer.zero_grad(), weight.grad is\\n{}\".format(weight.grad))"
   ]
  },
  {
   "cell_type": "markdown",
   "metadata": {},
   "source": [
    "3.add_param_group"
   ]
  },
  {
   "cell_type": "code",
   "execution_count": 33,
   "metadata": {},
   "outputs": [
    {
     "name": "stdout",
     "output_type": "stream",
     "text": [
      "optimizer.param_groups is\n",
      "[{'params': [tensor([[ 1.0966, -0.2597],\n",
      "        [-0.2541, -0.5374]], requires_grad=True)], 'lr': 0.1, 'momentum': 0, 'dampening': 0, 'weight_decay': 0, 'nesterov': False}]\n"
     ]
    }
   ],
   "source": [
    "print(\"optimizer.param_groups is\\n{}\".format(optimizer.param_groups))"
   ]
  },
  {
   "cell_type": "code",
   "execution_count": 34,
   "metadata": {},
   "outputs": [],
   "source": [
    " w2 = torch.randn((3, 3), requires_grad=True)"
   ]
  },
  {
   "cell_type": "code",
   "execution_count": 35,
   "metadata": {},
   "outputs": [],
   "source": [
    "optimizer.add_param_group({\"params\": w2, 'lr': 0.0001})"
   ]
  },
  {
   "cell_type": "code",
   "execution_count": 36,
   "metadata": {},
   "outputs": [
    {
     "name": "stdout",
     "output_type": "stream",
     "text": [
      "optimizer.param_groups is\n",
      "[{'params': [tensor([[ 1.0966, -0.2597],\n",
      "        [-0.2541, -0.5374]], requires_grad=True)], 'lr': 0.1, 'momentum': 0, 'dampening': 0, 'weight_decay': 0, 'nesterov': False}, {'params': [tensor([[ 1.0436, -0.0512,  0.5632],\n",
      "        [ 1.8535, -0.5516, -1.3481],\n",
      "        [-1.2838, -0.8173,  1.8077]], requires_grad=True)], 'lr': 0.0001, 'momentum': 0, 'dampening': 0, 'weight_decay': 0, 'nesterov': False}]\n"
     ]
    }
   ],
   "source": [
    "print(\"optimizer.param_groups is\\n{}\".format(optimizer.param_groups))"
   ]
  },
  {
   "cell_type": "code",
   "execution_count": 6,
   "metadata": {},
   "outputs": [],
   "source": [
    "weight1 = torch.randn((2, 2), requires_grad=True)\n",
    "weight1.grad = torch.ones((2, 2))"
   ]
  },
  {
   "cell_type": "markdown",
   "metadata": {},
   "source": [
    "4 state_dict"
   ]
  },
  {
   "cell_type": "code",
   "execution_count": 7,
   "metadata": {},
   "outputs": [
    {
     "name": "stdout",
     "output_type": "stream",
     "text": [
      "state_dict before step:\n",
      " {'state': {}, 'param_groups': [{'lr': 0.1, 'momentum': 0.9, 'dampening': 0, 'weight_decay': 0, 'nesterov': False, 'params': [140617682880696]}]}\n"
     ]
    }
   ],
   "source": [
    "optimizer1 = SGD([weight1], lr=0.1, momentum=0.9)\n",
    "opt_state_dict = optimizer1.state_dict()\n",
    "\n",
    "print(\"state_dict before step:\\n\", opt_state_dict)"
   ]
  },
  {
   "cell_type": "code",
   "execution_count": 39,
   "metadata": {},
   "outputs": [],
   "source": [
    "for i in range(10):\n",
    "    optimizer1.step()"
   ]
  },
  {
   "cell_type": "code",
   "execution_count": 40,
   "metadata": {},
   "outputs": [
    {
     "name": "stdout",
     "output_type": "stream",
     "text": [
      "state_dict after step:\n",
      " {'state': {140294388229536: {'momentum_buffer': tensor([[6.5132, 6.5132],\n",
      "        [6.5132, 6.5132]])}}, 'param_groups': [{'lr': 0.1, 'momentum': 0.9, 'dampening': 0, 'weight_decay': 0, 'nesterov': False, 'params': [140294388229536]}]}\n"
     ]
    }
   ],
   "source": [
    "print(\"state_dict after step:\\n\", optimizer1.state_dict())"
   ]
  },
  {
   "cell_type": "code",
   "execution_count": 41,
   "metadata": {},
   "outputs": [],
   "source": [
    " torch.save(optimizer1.state_dict(), os.path.join('/home/zhanggong-study/pytorch_tutorial', \"optimizer_state_dict.pkl\"))"
   ]
  },
  {
   "cell_type": "code",
   "execution_count": 3,
   "metadata": {},
   "outputs": [],
   "source": [
    "state_dict = torch.load(os.path.join('/home/zhanggong-study/pytorch_tutorial', \"optimizer_state_dict.pkl\"))"
   ]
  },
  {
   "cell_type": "code",
   "execution_count": 8,
   "metadata": {},
   "outputs": [
    {
     "name": "stdout",
     "output_type": "stream",
     "text": [
      "state_dict before load state:\n",
      " {'state': {}, 'param_groups': [{'lr': 0.1, 'momentum': 0.9, 'dampening': 0, 'weight_decay': 0, 'nesterov': False, 'params': [140617682880696]}]}\n"
     ]
    }
   ],
   "source": [
    "print(\"state_dict before load state:\\n\", optimizer1.state_dict())"
   ]
  },
  {
   "cell_type": "code",
   "execution_count": 9,
   "metadata": {},
   "outputs": [
    {
     "name": "stdout",
     "output_type": "stream",
     "text": [
      "state_dict after load state:\n",
      " {'state': {140617682880696: {'momentum_buffer': tensor([[6.5132, 6.5132],\n",
      "        [6.5132, 6.5132]])}}, 'param_groups': [{'lr': 0.1, 'momentum': 0.9, 'dampening': 0, 'weight_decay': 0, 'nesterov': False, 'params': [140617682880696]}]}\n"
     ]
    }
   ],
   "source": [
    "optimizer1.load_state_dict(state_dict)\n",
    "print(\"state_dict after load state:\\n\", optimizer1.state_dict())"
   ]
  },
  {
   "cell_type": "code",
   "execution_count": null,
   "metadata": {},
   "outputs": [],
   "source": []
  }
 ],
 "metadata": {
  "kernelspec": {
   "display_name": "torch_gpu",
   "language": "python",
   "name": "py_gpu"
  },
  "language_info": {
   "codemirror_mode": {
    "name": "ipython",
    "version": 3
   },
   "file_extension": ".py",
   "mimetype": "text/x-python",
   "name": "python",
   "nbconvert_exporter": "python",
   "pygments_lexer": "ipython3",
   "version": "3.6.2"
  }
 },
 "nbformat": 4,
 "nbformat_minor": 2
}
